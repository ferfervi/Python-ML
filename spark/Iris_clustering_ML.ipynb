{
 "cells": [
  {
   "cell_type": "code",
   "execution_count": 3,
   "metadata": {
    "collapsed": false
   },
   "outputs": [
    {
     "name": "stdout",
     "output_type": "stream",
     "text": [
      "   Sepal_Length Sepal_Width Petal_Length Petal_Width Species\n",
      "1  5.1          3.5         1.4          0.2         setosa \n",
      "2  4.9          3.0         1.4          0.2         setosa \n",
      "3  4.7          3.2         1.3          0.2         setosa \n",
      "4  4.6          3.1         1.5          0.2         setosa \n",
      "5  5.0          3.6         1.4          0.2         setosa \n",
      "6  5.4          3.9         1.7          0.4         setosa \n",
      "7  4.6          3.4         1.4          0.3         setosa \n",
      "8  5.0          3.4         1.5          0.2         setosa \n",
      "9  4.4          2.9         1.4          0.2         setosa \n",
      "10 4.9          3.1         1.5          0.1         setosa \n",
      "11 5.4          3.7         1.5          0.2         setosa \n",
      "12 4.8          3.4         1.6          0.2         setosa \n",
      "13 4.8          3.0         1.4          0.1         setosa \n",
      "14 4.3          3.0         1.1          0.1         setosa \n",
      "15 5.8          4.0         1.2          0.2         setosa \n",
      "16 5.7          4.4         1.5          0.4         setosa \n",
      "17 5.4          3.9         1.3          0.4         setosa \n",
      "18 5.1          3.5         1.4          0.3         setosa \n",
      "19 5.7          3.8         1.7          0.3         setosa \n",
      "20 5.1          3.8         1.5          0.3         setosa \n",
      "root\n",
      " |-- : integer (nullable = true)\n",
      " |-- Sepal_Length: double (nullable = true)\n",
      " |-- Sepal_Width: double (nullable = true)\n",
      " |-- Petal_Length: double (nullable = true)\n",
      " |-- Petal_Width: double (nullable = true)\n",
      " |-- Species: string (nullable = true)\n",
      "\n"
     ]
    }
   ],
   "source": [
    "import csv\n",
    "\n",
    "# load testing library\n",
    "from test_helper import Test\n",
    "import os.path\n",
    "baseDir = os.path.join('data')\n",
    "inputPath = os.path.join('clustering', 'iris.csv')\n",
    "fileName = os.path.join(baseDir, inputPath)\n",
    "\n",
    "numPartitions = 2\n",
    "rawData = sc.textFile(fileName, numPartitions)\n",
    "#rawData.map(lambda line: line.split()).collect()\n",
    "\n",
    "df = sqlCtx.load(source='com.databricks.spark.csv',header = 'true',inferSchema = 'true',path = fileName)\n",
    "df.show()\n",
    "\n",
    "\n",
    "df.printSchema()\n",
    "\n",
    "# TODO: Replace <FILL IN> with appropriate code\n",
    "#numPoints = rawData.count()\n",
    "#print numPoints\n",
    "#samplePoints = rawData.take(5)\n",
    "#print samplePoints\n",
    "\n"
   ]
  },
  {
   "cell_type": "code",
   "execution_count": 24,
   "metadata": {
    "collapsed": false
   },
   "outputs": [],
   "source": [
    "import pandas as pd\n",
    "import sklearn \n",
    "import seaborn as sns\n",
    "\n"
   ]
  },
  {
   "cell_type": "code",
   "execution_count": 3,
   "metadata": {
    "collapsed": false
   },
   "outputs": [
    {
     "data": {
      "text/plain": [
       "28L"
      ]
     },
     "execution_count": 3,
     "metadata": {},
     "output_type": "execute_result"
    }
   ],
   "source": [
    "#df.select(\"Species\").show()\n",
    "df2 = df[df.Petal_Length >5.4]\n",
    "df2.count()"
   ]
  },
  {
   "cell_type": "code",
   "execution_count": 4,
   "metadata": {
    "collapsed": false
   },
   "outputs": [
    {
     "name": "stdout",
     "output_type": "stream",
     "text": [
      "   Sepal_Length Sepal_Width Petal_Length Petal_Width Species\n",
      "1  5.1          3.5         1.4          0.2         setosa \n",
      "2  4.9          3.0         1.4          0.2         setosa \n",
      "3  4.7          3.2         1.3          0.2         setosa \n",
      "4  4.6          3.1         1.5          0.2         setosa \n",
      "5  5.0          3.6         1.4          0.2         setosa \n",
      "6  5.4          3.9         1.7          0.4         setosa \n",
      "7  4.6          3.4         1.4          0.3         setosa \n",
      "8  5.0          3.4         1.5          0.2         setosa \n",
      "9  4.4          2.9         1.4          0.2         setosa \n",
      "10 4.9          3.1         1.5          0.1         setosa \n",
      "11 5.4          3.7         1.5          0.2         setosa \n",
      "12 4.8          3.4         1.6          0.2         setosa \n",
      "13 4.8          3.0         1.4          0.1         setosa \n",
      "14 4.3          3.0         1.1          0.1         setosa \n",
      "15 5.8          4.0         1.2          0.2         setosa \n",
      "16 5.7          4.4         1.5          0.4         setosa \n",
      "17 5.4          3.9         1.3          0.4         setosa \n",
      "18 5.1          3.5         1.4          0.3         setosa \n",
      "19 5.7          3.8         1.7          0.3         setosa \n",
      "20 5.1          3.8         1.5          0.3         setosa \n",
      "Sepal_Length Sepal_Width Petal_Length Petal_Width\n",
      "5.1          3.8         1.5          0.3        \n",
      "5.1          3.8         1.5          0.3        \n",
      "5.1          3.8         1.5          0.3        \n",
      "5.1          3.8         1.5          0.3        \n",
      "5.1          3.8         1.5          0.3        \n",
      "5.1          3.8         1.5          0.3        \n",
      "5.1          3.8         1.5          0.3        \n",
      "5.1          3.8         1.5          0.3        \n",
      "5.1          3.8         1.5          0.3        \n",
      "5.1          3.8         1.5          0.3        \n",
      "5.1          3.8         1.5          0.3        \n",
      "5.1          3.8         1.5          0.3        \n",
      "5.1          3.8         1.5          0.3        \n",
      "5.1          3.8         1.5          0.3        \n",
      "5.1          3.8         1.5          0.3        \n",
      "5.1          3.8         1.5          0.3        \n",
      "5.1          3.8         1.5          0.3        \n",
      "5.1          3.8         1.5          0.3        \n",
      "5.1          3.8         1.5          0.3        \n",
      "5.1          3.8         1.5          0.3        \n"
     ]
    }
   ],
   "source": [
    "# Changing the name of the feature, column\n",
    "#df = df.withColumnRenamed(\"Species\",\"Flower_scpecie\")\n",
    "df.show()\n",
    "import numpy as np\n",
    "\n",
    "df_features= df.select(\"Sepal_Length\",\"Sepal_Width\",\"Petal_Length\",\"Petal_Width\")\n",
    "df_features.show()\n",
    "df_Pandas = df_features.toPandas()\n",
    "df_pandas = df.toPandas()"
   ]
  },
  {
   "cell_type": "code",
   "execution_count": 20,
   "metadata": {
    "collapsed": false
   },
   "outputs": [
    {
     "name": "stdout",
     "output_type": "stream",
     "text": [
      "Species    AVG(Sepal_width)   AVG(Sepal_length)\n",
      "virginica  3.311764705882353  6.805882352941178\n",
      "versicolor 3.2                6.487500000000001\n",
      "setosa     3.5285714285714285 5.076190476190476\n"
     ]
    }
   ],
   "source": [
    "#df = sns.load_dataset(\"iris\")\n",
    "df.registerTempTable(\"iris\")\n",
    "\n",
    "# Using SparkSQL interfice\n",
    "SQL_DF = sqlCtx.sql('Select * from iris WHERE Sepal_Width ==3')\n",
    "\n",
    "#Using DataFrame\n",
    "df.filter(df['Sepal_width']>3).groupBy('Species').avg('Sepal_width','Sepal_length').show()\n"
   ]
  },
  {
   "cell_type": "code",
   "execution_count": null,
   "metadata": {
    "collapsed": true
   },
   "outputs": [],
   "source": []
  },
  {
   "cell_type": "code",
   "execution_count": null,
   "metadata": {
    "collapsed": true
   },
   "outputs": [],
   "source": []
  }
 ],
 "metadata": {
  "kernelspec": {
   "display_name": "Python 2",
   "language": "python",
   "name": "python2"
  },
  "language_info": {
   "codemirror_mode": {
    "name": "ipython",
    "version": 2
   },
   "file_extension": ".py",
   "mimetype": "text/x-python",
   "name": "python",
   "nbconvert_exporter": "python",
   "pygments_lexer": "ipython2",
   "version": "2.7.6"
  }
 },
 "nbformat": 4,
 "nbformat_minor": 0
}
